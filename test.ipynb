{
 "cells": [
  {
   "cell_type": "code",
   "execution_count": 3,
   "metadata": {},
   "outputs": [
    {
     "name": "stdout",
     "output_type": "stream",
     "text": [
      "EarlyNight_001740.png not found in train, searching other splits...\n",
      "Found EarlyNight_001740.png in val, moving to train...\n",
      "EarlyNight_001740.txt not found in train, searching other splits...\n",
      "Found EarlyNight_001740.txt in val, moving to train...\n",
      "ETRI_000680.png not found in val, searching other splits...\n",
      "Found ETRI_000680.png in train, moving to val...\n",
      "ETRI_000680.txt not found in val, searching other splits...\n",
      "Found ETRI_000680.txt in train, moving to val...\n"
     ]
    }
   ],
   "source": [
    "import os\n",
    "import shutil\n",
    "import csv\n",
    "\n",
    "def move_files_based_on_csv(csv_file, images_dir, labels_dir):\n",
    "    \"\"\"Move files in images and labels folders based on the CSV file to their correct locations.\"\"\"\n",
    "    \n",
    "    # Read the CSV file\n",
    "    with open(csv_file, mode='r') as file:\n",
    "        reader = csv.DictReader(file)\n",
    "        file_list = list(reader)\n",
    "\n",
    "    # Function to find and move a file if it's not in the correct split\n",
    "    def move_file(file_name, current_split, base_dir, file_ext):\n",
    "        \"\"\"Move file from wrong split to correct split.\"\"\"\n",
    "        current_path = os.path.join(base_dir, current_split, f'{file_name}{file_ext}')\n",
    "        \n",
    "        # If the file is not in the current split, search other splits\n",
    "        if not os.path.exists(current_path):\n",
    "            print(f\"{file_name}{file_ext} not found in {current_split}, searching other splits...\")\n",
    "            for split in ['train', 'val', 'test']:\n",
    "                if split != current_split:  # Don't check the current split\n",
    "                    other_path = os.path.join(base_dir, split, f'{file_name}{file_ext}')\n",
    "                    if os.path.exists(other_path):\n",
    "                        print(f\"Found {file_name}{file_ext} in {split}, moving to {current_split}...\")\n",
    "                        # Move the file to the correct split\n",
    "                        shutil.move(other_path, current_path)\n",
    "                        break\n",
    "\n",
    "    # Check and move image and label files\n",
    "    for row in file_list:\n",
    "        split = row['Split']\n",
    "        file_name = row['File']\n",
    "        \n",
    "        # Move image files (.png)\n",
    "        move_file(file_name, split, images_dir, '.png')\n",
    "        \n",
    "        # Move label files (.txt)\n",
    "        move_file(file_name, split, labels_dir, '.txt')\n",
    "\n",
    "if __name__ == '__main__':\n",
    "    # Paths to the directories and CSV file\n",
    "    images_dir = '02_baseline_code_and_model//Compete_COCO//images'  # Replace with actual path\n",
    "    labels_dir = '02_baseline_code_and_model//Compete_COCO//labels'  # Replace with actual path\n",
    "    csv_file = 'file_list.csv'                                       # Replace with actual CSV path\n",
    "\n",
    "    # Move files based on the CSV\n",
    "    move_files_based_on_csv(csv_file, images_dir, labels_dir)\n"
   ]
  }
 ],
 "metadata": {
  "kernelspec": {
   "display_name": "fas",
   "language": "python",
   "name": "python3"
  },
  "language_info": {
   "codemirror_mode": {
    "name": "ipython",
    "version": 3
   },
   "file_extension": ".py",
   "mimetype": "text/x-python",
   "name": "python",
   "nbconvert_exporter": "python",
   "pygments_lexer": "ipython3",
   "version": "3.7.12"
  }
 },
 "nbformat": 4,
 "nbformat_minor": 2
}
